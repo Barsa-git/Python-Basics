{
  "nbformat": 4,
  "nbformat_minor": 0,
  "metadata": {
    "colab": {
      "provenance": []
    },
    "kernelspec": {
      "name": "python3",
      "display_name": "Python 3"
    },
    "language_info": {
      "name": "python"
    }
  },
  "cells": [
    {
      "cell_type": "markdown",
      "source": [
        "#PYTHON BASICS"
      ],
      "metadata": {
        "id": "NI5Yx4V7G8v1"
      }
    },
    {
      "cell_type": "markdown",
      "source": [
        "#Theory Questions :-"
      ],
      "metadata": {
        "id": "_WMzzSMGHSvY"
      }
    },
    {
      "cell_type": "markdown",
      "source": [
        "**1**. What is Python, and why is it popular ?\n",
        "  - Python is a programming language that's popular because it's easy to learn, versatile, and has many libraries. It's used for many applications, including web development, data science, and machine learning.\n",
        "   - **Easy to learn :** Python has a simple syntax that's accessible to beginners.\n",
        "   - **Versatile :** Python can be used to create many different types of programs.\n",
        "   - **Large libraries :** Python has many libraries and frameworks that can save time and effort.\n",
        "   - **Cross-platform :** Python can run on many different platforms.\n",
        "   - **Supported by big companies :** Companies like Google, Netflix, Uber, and Dropbox use Python.\n",
        "   - **Used in many fields :** Python is used in web development, data science, machine learning, scientific computing, and more.\n",
        "  - Python is used for Web development (used to build websites) , Software development (used to build software) ,\n",
        "Data science (used to conduct data analysis) ,\n",
        "Machine learning (used in many AI and machine learning operations) .    "
      ],
      "metadata": {
        "id": "WFL1ISwPH9N6"
      }
    },
    {
      "cell_type": "markdown",
      "source": [
        "**2**. What is an interpreter in Python ?\n",
        " - A Python interpreter is a program that reads and executes Python code. It translates Python code into bytecode, which is then executed by the Python Virtual Machine (PVM) ."
      ],
      "metadata": {
        "id": "6r5dbAJjLweO"
      }
    },
    {
      "cell_type": "markdown",
      "source": [
        "**3**. What are pre-defined keywords in Python ?\n",
        " - Keywords in Python are reserved words that have special meanings and cannot be used as identifiers (like variable names or function names).\n",
        " - Here are a few examples :-\n",
        "  - **Control flow** : if, else, elif, for, while, break, continue, pass\n",
        "  - **Data types** : int, float, str, bool, list, dict, tuple, set\n",
        "  - **Functions** : def, return, lambda\n",
        "  - **Classes and objects** : class, self, super\n",
        "  - **Error handling** : try, except, finally, raise\n",
        "  - **Other** : True, False, None, and, or, not, in, is, del, global, nonlocal, with, as, yield"
      ],
      "metadata": {
        "id": "nB2Mqs28MnyD"
      }
    },
    {
      "cell_type": "markdown",
      "source": [
        "**4**.  Can keywords be used as variable names ?\n",
        " - No , keywords cannot be used as variable names because they have special meanings and purposes in a programming language .\n",
        " - Keywords are also known as reserved words .\n",
        " - Keywords define the structure and syntax rules of a programming language .\n",
        " - They are predefined tokens that cannot be used as variable names or any other identifiers ."
      ],
      "metadata": {
        "id": "BaM2tGMlPGwL"
      }
    },
    {
      "cell_type": "markdown",
      "source": [
        "**5**. What is mutability in Python ?\n",
        " - In Python , mutability refers to the ability of an object to be changed after it has been created . If an object is mutable , its internal state can be modified .\n",
        " - Mutable objects :-\n",
        "  - Lists\n",
        "  - Dictionaries\n",
        "  - Sets"
      ],
      "metadata": {
        "id": "OhDqsE6XQRgw"
      }
    },
    {
      "cell_type": "markdown",
      "source": [
        "**6**. Why are lists mutable, but tuples are immutable ?\n",
        " - In Python , lists are considered mutable because they can be modified after creation , while tuples are immutable , meaning their contents cannot be changed once they are created ; this design choice allows tuples to be used effectively when you need to store data that should remain unchanged , and lists are better for situations where you need to frequently add , remove , or update elements within a sequence ."
      ],
      "metadata": {
        "id": "9691jxxWSKVO"
      }
    },
    {
      "cell_type": "markdown",
      "source": [
        "**7**. What is the difference between “==” and “is” operators in Python ?\n",
        " - In Python , (==) and (is) are both comparison operators , but they serve different purposes :-\n",
        "\n",
        "    - == (Equality Operator) :-\n",
        "     - Compares the values of two objects .\n",
        "     - Returns True if the values of the objects are equal , otherwise False .\n",
        "    - is (Identity Operator) :-\n",
        "     - Compares the memory addresses of two objects .\n",
        "     - Returns True if both variables refer to the exact same object in memory,  otherwise False .\n"
      ],
      "metadata": {
        "id": "-54a5F-MTRI3"
      }
    },
    {
      "cell_type": "markdown",
      "source": [
        "**8**.  What are logical operators in Python ?\n",
        " - Logical operators in Python are used to combine conditional statements and produce a Boolean result (True or False) .\n",
        " - Here's a summary :-\n",
        "  - and : Returns True if both operands are true .\n",
        "  - or : Returns True if at least one operand is true .\n",
        "  - not : Reverses the logical state of the operand ."
      ],
      "metadata": {
        "id": "c5hoLzL0VZWJ"
      }
    },
    {
      "cell_type": "markdown",
      "source": [
        "**9**. What is type casting in Python ?\n",
        " - In Python , type casting , also known as type conversion , is the process of converting a value from one data type to another .\n",
        " - Types of Type Casting :-\n",
        "  - Implicit Type Casting :- Python automatically performs this conversion when it's safe to do so without data loss .\n",
        "  - Explicit Type Casting :- This is done manually by the programmer using built-in functions like int() , float() , str() , bool() , etc ."
      ],
      "metadata": {
        "id": "tMebtek-WPZu"
      }
    },
    {
      "cell_type": "markdown",
      "source": [
        "**10**. What is the difference between implicit and explicit type casting ?\n",
        " - Implicit type casting is automatic , while explicit type casting is manual .\n",
        " - Implicit type casting is often used to convert smaller data types to larger ones , while explicit type casting is used when data loss is possible .\n",
        " - **Implicit type casting** : -\n",
        "  - The compiler or interpreter automatically converts one data type to another without any code notation . This is often invisible to the user .\n",
        " - **Explicit type casting** : -\n",
        "  - The programmer manually defines the type conversion. This is visible in the source code ."
      ],
      "metadata": {
        "id": "HkkC_SckZCt-"
      }
    },
    {
      "cell_type": "markdown",
      "source": [
        "**11**. What is the purpose of conditional statements in Python ?\n",
        "- Conditional statements in Python allow you to control the flow of your program based on certain conditions .\n",
        "- They help you make decisions in your code , executing specific blocks of code only when those conditions are met .\n",
        "- Here's why they are important : -\n",
        " - Decision Making : -\n",
        "   - Conditional statements let you choose different paths of execution depending on the situation . For example , you can check if a user input is valid before proceeding , or display different messages based on the result of a calculation .\n",
        " - Control Flow : -\n",
        "   - They enable you to create more complex logic by selectively executing code blocks . This is crucial for building programs that respond to different inputs and scenarios .\n",
        " - Filtering Data : -\n",
        "   - You can use conditional statements to filter data based on specific criteria . For instance , you can extract all the records from a dataset that meet a certain condition .\n",
        " - Error Handling : -\n",
        "   - Conditional statements are essential for error handling . You can use them to check for potential errors and take appropriate action , preventing crashes and making your code more robust .\n",
        "- Common conditional statements in Python : -\n",
        " - **if** : -\n",
        "   - Executes a block of code if a condition is true .\n",
        " - **else** : -\n",
        "   - Executes a block of code if the preceding if condition is false .\n",
        " - **elif** : -\n",
        "   - Allows for multiple conditional checks . If the if condition is false , it checks the elif condition and executes the corresponding code if it's true ."
      ],
      "metadata": {
        "id": "O69InFyU2VMu"
      }
    },
    {
      "cell_type": "markdown",
      "source": [
        "**12**. How does the elif statement work ?\n",
        " - An \"elif\" statement in programming languages like Python stands for \"else if\" and is used to check for multiple conditions sequentially ; if the first \"if\" condition is not met , it moves on to the next \"elif\" condition to see if that one is true , and so on , only executing the block of code associated with the first true condition it finds ."
      ],
      "metadata": {
        "id": "690hXLRW7mWY"
      }
    },
    {
      "cell_type": "markdown",
      "source": [
        "**13**. What is the difference between for and while loops ?\n",
        " - The main difference between a for loop and a while loop is the number of times the code is repeated .\n",
        " - A for loop is used when the number of iterations is known , while a while loop is used when the number of iterations is unknown .\n",
        " - **For loop** : -\n",
        "  - Used to repeat a section of code a known number of times\n",
        "  - Iterates over a sequence , such as a list , tuple , or string\n",
        "  - Always followed by initialization , expression , and increment statements\n",
        " - **While loop** : -\n",
        "  - Used to repeat a section of code an unknown number of times until a specific condition is met\n",
        "  - Executes a block of code as long as a specified condition is true\n",
        "  - Useful when you don't know how many times the loop will iterate  "
      ],
      "metadata": {
        "id": "IJ8KnaN_d_i-"
      }
    },
    {
      "cell_type": "markdown",
      "source": [
        "**14**. Describe a scenario where a while loop is more suitable than a for loop.\n",
        " - **User input validation** : You want to ask a user to enter a number between 1 and 10 , and keep asking them to re-enter until they provide a valid number .\n",
        " - Since you don't know how many times the user might enter an invalid input , a while loop is ideal to continuously check the input until the condition is met .\n",
        " - So , in this case while loop is more suitable than a for loop .\n"
      ],
      "metadata": {
        "id": "-D-f5SpJgNxT"
      }
    },
    {
      "cell_type": "markdown",
      "source": [
        "#Practical Questions : -"
      ],
      "metadata": {
        "id": "jGhLomVnic0J"
      }
    },
    {
      "cell_type": "markdown",
      "source": [
        "**1**. Write a Python program to print \"Hello , World!\" .\n"
      ],
      "metadata": {
        "id": "3DUlUaKpitqr"
      }
    },
    {
      "cell_type": "code",
      "source": [
        "print(\"Hello , World!\")"
      ],
      "metadata": {
        "colab": {
          "base_uri": "https://localhost:8080/"
        },
        "id": "de8ss_07jmtk",
        "outputId": "01a13134-15a1-438f-8587-87ecd072b781"
      },
      "execution_count": null,
      "outputs": [
        {
          "output_type": "stream",
          "name": "stdout",
          "text": [
            "Hello , World!\n"
          ]
        }
      ]
    },
    {
      "cell_type": "markdown",
      "source": [
        "**2**. Write a Python program that displays your name and age ."
      ],
      "metadata": {
        "id": "zPo2Lr8Cjyc4"
      }
    },
    {
      "cell_type": "code",
      "source": [
        "name = input(\"Enter your name: \")\n",
        "age = int(input(\"Enter your age: \"))\n",
        "\n",
        "print(f\"Hello, my name is {name} and I am {age} years old.\")"
      ],
      "metadata": {
        "colab": {
          "base_uri": "https://localhost:8080/"
        },
        "id": "m65RjZ63j8Z8",
        "outputId": "1031087f-a590-442e-905a-e64879f0595a"
      },
      "execution_count": null,
      "outputs": [
        {
          "output_type": "stream",
          "name": "stdout",
          "text": [
            "Enter your name: Barsa\n",
            "Enter your age: 26\n",
            "Hello, my name is Barsa and I am 26 years old.\n"
          ]
        }
      ]
    },
    {
      "cell_type": "markdown",
      "source": [
        "**3**. Write code to print all the pre-defined keywords in Python using the keyword library ."
      ],
      "metadata": {
        "id": "h54LNvkKlU2z"
      }
    },
    {
      "cell_type": "code",
      "source": [
        "import keyword\n",
        "\n",
        "keyword.kwlist\n"
      ],
      "metadata": {
        "colab": {
          "base_uri": "https://localhost:8080/"
        },
        "id": "Z1ingzh4lwCE",
        "outputId": "e966224d-8d36-4fda-efc6-b694b5192727"
      },
      "execution_count": null,
      "outputs": [
        {
          "output_type": "execute_result",
          "data": {
            "text/plain": [
              "['False',\n",
              " 'None',\n",
              " 'True',\n",
              " 'and',\n",
              " 'as',\n",
              " 'assert',\n",
              " 'async',\n",
              " 'await',\n",
              " 'break',\n",
              " 'class',\n",
              " 'continue',\n",
              " 'def',\n",
              " 'del',\n",
              " 'elif',\n",
              " 'else',\n",
              " 'except',\n",
              " 'finally',\n",
              " 'for',\n",
              " 'from',\n",
              " 'global',\n",
              " 'if',\n",
              " 'import',\n",
              " 'in',\n",
              " 'is',\n",
              " 'lambda',\n",
              " 'nonlocal',\n",
              " 'not',\n",
              " 'or',\n",
              " 'pass',\n",
              " 'raise',\n",
              " 'return',\n",
              " 'try',\n",
              " 'while',\n",
              " 'with',\n",
              " 'yield']"
            ]
          },
          "metadata": {},
          "execution_count": 7
        }
      ]
    },
    {
      "cell_type": "markdown",
      "source": [
        "**4**.Write a program that checks if a given word is a Python keyword .\n"
      ],
      "metadata": {
        "id": "CozpPtTsl_hx"
      }
    },
    {
      "cell_type": "code",
      "source": [
        "import keyword\n",
        "\n",
        "def is_keyword(word):\n",
        "  return keyword.iskeyword(word)\n",
        "\n",
        "word = input(\"Enter a word: \")\n",
        "if is_keyword(word):\n",
        "  print(f\"{word} is a Python keyword.\")\n",
        "else:\n",
        "  print(f\"{word} is not a Python keyword.\")"
      ],
      "metadata": {
        "colab": {
          "base_uri": "https://localhost:8080/"
        },
        "id": "SRc34xj-mPMB",
        "outputId": "913ab9a4-095a-4581-f1ea-257b60d15f0f"
      },
      "execution_count": null,
      "outputs": [
        {
          "output_type": "stream",
          "name": "stdout",
          "text": [
            "Enter a word: and\n",
            "and is a Python keyword.\n"
          ]
        }
      ]
    },
    {
      "cell_type": "markdown",
      "source": [
        "**5**. Create a list and tuple in Python , and demonstrate how attempting to change an element works differently for each ."
      ],
      "metadata": {
        "id": "9TMioTNonLAY"
      }
    },
    {
      "cell_type": "code",
      "source": [
        "my_list = [1, 2, 3]\n",
        "my_tuple = (1, 2, 3)\n",
        "\n",
        "my_list[0] = 10\n",
        "print(my_list)\n",
        "\n",
        "try:\n",
        "    my_tuple[2] = 10\n",
        "except TypeError:\n",
        "    print(\"Tuples are immutable and cannot be modified directly.\")"
      ],
      "metadata": {
        "colab": {
          "base_uri": "https://localhost:8080/"
        },
        "id": "1HdzlcAanggu",
        "outputId": "de5197ee-d4cf-4070-eaec-b4e18a9c77c8"
      },
      "execution_count": null,
      "outputs": [
        {
          "output_type": "stream",
          "name": "stdout",
          "text": [
            "[10, 2, 3]\n",
            "Tuples are immutable and cannot be modified directly.\n"
          ]
        }
      ]
    },
    {
      "cell_type": "markdown",
      "source": [
        "**6**. Write a function to demonstrate the behavior of mutable and immutable arguments .\n",
        "\n"
      ],
      "metadata": {
        "id": "bkBkPwa1o7X5"
      }
    },
    {
      "cell_type": "code",
      "source": [
        "def mutable_example(my_list):\n",
        "    \"\"\"\n",
        "    Demonstrates how modifying a mutable argument (list) within a function affects the original object.\n",
        "    \"\"\"\n",
        "    my_list.append(4)  # Modifies the list directly\n",
        "    print(\"Inside function:\", my_list)\n",
        "\n",
        "def immutable_example(my_string):\n",
        "    \"\"\"\n",
        "    Demonstrates how attempting to modify an immutable argument (string) creates a new string.\n",
        "    \"\"\"\n",
        "    my_string = my_string + \" world \"  # Creates a new string object\n",
        "    print(\"Inside function:\", my_string)\n",
        "\n",
        "# Example usage:\n",
        "original_list = [1, 2, 3]\n",
        "print(\"Before function call:\", original_list)\n",
        "mutable_example(original_list)\n",
        "print(\"After function call:\", original_list)  # List is modified\n",
        "\n",
        "original_string = \"hello\"\n",
        "print(\"Before function call:\", original_string)\n",
        "immutable_example(original_string)\n",
        "print(\"After function call:\", original_string)  # String remains unchanged"
      ],
      "metadata": {
        "colab": {
          "base_uri": "https://localhost:8080/"
        },
        "id": "T3CwMA4apHy1",
        "outputId": "9faf668b-f1a7-4565-c9aa-edc5a1fbbd82"
      },
      "execution_count": null,
      "outputs": [
        {
          "output_type": "stream",
          "name": "stdout",
          "text": [
            "Before function call: [1, 2, 3]\n",
            "Inside function: [1, 2, 3, 4]\n",
            "After function call: [1, 2, 3, 4]\n",
            "Before function call: hello\n",
            "Inside function: hello world \n",
            "After function call: hello\n"
          ]
        }
      ]
    },
    {
      "cell_type": "markdown",
      "source": [
        "**7**. Write a program that performs basic arithmetic operations on two   user-input numbers ."
      ],
      "metadata": {
        "id": "USt6mkP8rTmw"
      }
    },
    {
      "cell_type": "code",
      "source": [
        "a=12\n",
        "b=4\n",
        "\n",
        "print(\"addition\",a+b)\n",
        "print(\"subtraction\",a-b)\n",
        "print(\"multiplication\",a*b)\n",
        "print(\"division\",a/b)\n",
        "print(\"modulus\",a%b)\n",
        "print(\"exponent\",a**b)\n",
        "print(\"floor division\",a//b)"
      ],
      "metadata": {
        "id": "RwNyUqlxy0tT",
        "colab": {
          "base_uri": "https://localhost:8080/"
        },
        "outputId": "82e85f81-c653-49be-c386-dda91622ac26"
      },
      "execution_count": 1,
      "outputs": [
        {
          "output_type": "stream",
          "name": "stdout",
          "text": [
            "addition 16\n",
            "subtraction 8\n",
            "multiplication 48\n",
            "division 3.0\n",
            "modulus 0\n",
            "exponent 20736\n",
            "floor division 3\n"
          ]
        }
      ]
    },
    {
      "cell_type": "markdown",
      "source": [
        "**8**. Write a program to demonstrate the use of logical operators ."
      ],
      "metadata": {
        "id": "-gySjY3M0L1G"
      }
    },
    {
      "cell_type": "code",
      "source": [
        "def check_eligibility(age, is_student):\n",
        "\n",
        "    eligible = (age >= 16) and (age <= 25) and is_student\n",
        "    return eligible\n",
        "\n",
        "print(\"Enter your age:\")\n",
        "age = int(input())\n",
        "print(\"Are you a student? (True/False)\")\n",
        "is_student = input().lower() == \"true\"\n",
        "\n",
        "if check_eligibility(age, is_student):\n",
        "    print(\"You are eligible for the student discount.\")\n",
        "else:\n",
        "    print(\"You are not eligible for the student discount.\")"
      ],
      "metadata": {
        "id": "s55lGUUL0WoC",
        "colab": {
          "base_uri": "https://localhost:8080/"
        },
        "outputId": "3a2f6f94-94be-4adf-aed8-1704d814531a"
      },
      "execution_count": 4,
      "outputs": [
        {
          "output_type": "stream",
          "name": "stdout",
          "text": [
            "Enter your age:\n",
            "21\n",
            "Are you a student? (True/False)\n",
            "true\n",
            "You are eligible for the student discount.\n"
          ]
        }
      ]
    },
    {
      "cell_type": "markdown",
      "source": [
        "**9**. Write a Python program to convert user input from string to integer, float, and boolean types."
      ],
      "metadata": {
        "id": "LK6deBAMRq3-"
      }
    },
    {
      "cell_type": "code",
      "source": [
        "def convert_input():\n",
        "\n",
        "    user_input = input(\"Enter a value: \")\n",
        "\n",
        "    try:\n",
        "        int_value = int(user_input)\n",
        "        print(\"Converted to integer:\", int_value)\n",
        "    except ValueError:\n",
        "        try:\n",
        "            float_value = float(user_input)\n",
        "            print(\"Converted to float:\", float_value)\n",
        "        except ValueError:\n",
        "\n",
        "            if user_input.lower() == \"true\":\n",
        "                bool_value = True\n",
        "                print(\"Converted to boolean:\", bool_value)\n",
        "            elif user_input.lower() == \"false\":\n",
        "                bool_value = False\n",
        "                print(\"Converted to boolean:\", bool_value)\n",
        "            else:\n",
        "                print(\"Could not convert to integer, float, or boolean.\")\n",
        "\n",
        "if __name__ == \"__main__\":\n",
        "    convert_input()"
      ],
      "metadata": {
        "colab": {
          "base_uri": "https://localhost:8080/"
        },
        "id": "AWrTFUEySLW-",
        "outputId": "ae37ddd1-fce2-47f7-bece-54e2fb990087"
      },
      "execution_count": 8,
      "outputs": [
        {
          "output_type": "stream",
          "name": "stdout",
          "text": [
            "Enter a value: 5\n",
            "Converted to integer: 5\n"
          ]
        }
      ]
    },
    {
      "cell_type": "markdown",
      "source": [
        "**10**. Write code to demonstrate type casting with list elements ."
      ],
      "metadata": {
        "id": "hGfCQ9xIVg3v"
      }
    },
    {
      "cell_type": "code",
      "source": [
        "my_list = [\"10\", \"20\", \"30\"]\n",
        "\n",
        "int_list = [int(x) for x in my_list]\n",
        "\n",
        "print(\"Original list:\", my_list)\n",
        "print(\"List after type casting to integer:\", int_list)\n",
        "\n",
        "mixed_list = [\"10\", 20.5, 30]\n",
        "\n",
        "casted_list = [int(x) if isinstance(x, str) else x for x in mixed_list]\n",
        "\n",
        "print(\"Mixed list:\", mixed_list)\n",
        "print(\"List with only strings cast to int:\", casted_list)"
      ],
      "metadata": {
        "colab": {
          "base_uri": "https://localhost:8080/"
        },
        "id": "pPpbPAPNWVBD",
        "outputId": "3823ee3c-c9cc-46b4-deb7-34687a949072"
      },
      "execution_count": 11,
      "outputs": [
        {
          "output_type": "stream",
          "name": "stdout",
          "text": [
            "Original list: ['10', '20', '30']\n",
            "List after type casting to integer: [10, 20, 30]\n",
            "Mixed list: ['10', 20.5, 30]\n",
            "List with only strings cast to int: [10, 20.5, 30]\n"
          ]
        }
      ]
    },
    {
      "cell_type": "markdown",
      "source": [
        "**11**. Write a program that checks if a number is positive , negative , or zero ."
      ],
      "metadata": {
        "id": "JPeyDUGUW1IG"
      }
    },
    {
      "cell_type": "code",
      "source": [
        "def check_number(num):\n",
        "\n",
        "    if num > 0:\n",
        "        return \"Positive\"\n",
        "    elif num < 0:\n",
        "        return \"Negative\"\n",
        "    else:\n",
        "        return \"Zero\"\n",
        "\n",
        "user_num = int(input(\"Enter a number: \"))\n",
        "result = check_number(user_num)\n",
        "print(f\"The number {user_num} is {result}.\")"
      ],
      "metadata": {
        "colab": {
          "base_uri": "https://localhost:8080/"
        },
        "id": "Wdut110vXE1h",
        "outputId": "8a796767-f348-461c-c972-e29b418daab9"
      },
      "execution_count": 17,
      "outputs": [
        {
          "output_type": "stream",
          "name": "stdout",
          "text": [
            "Enter a number: -99999999999999999\n",
            "The number -99999999999999999 is Negative.\n"
          ]
        }
      ]
    },
    {
      "cell_type": "markdown",
      "source": [
        "**12**. Write a for loop to print numbers from 1 to 10 ."
      ],
      "metadata": {
        "id": "X0zl76AqYmEA"
      }
    },
    {
      "cell_type": "code",
      "source": [
        "for i in range(1,11):\n",
        "  print(i)"
      ],
      "metadata": {
        "colab": {
          "base_uri": "https://localhost:8080/"
        },
        "id": "DY5-OUeRZLJq",
        "outputId": "02608fc8-4244-45ae-dcf0-feee1c85539c"
      },
      "execution_count": 22,
      "outputs": [
        {
          "output_type": "stream",
          "name": "stdout",
          "text": [
            "1\n",
            "2\n",
            "3\n",
            "4\n",
            "5\n",
            "6\n",
            "7\n",
            "8\n",
            "9\n",
            "10\n"
          ]
        }
      ]
    },
    {
      "cell_type": "markdown",
      "source": [
        "**13**. Write a Python program to find the sum of all even numbers between 1 and 50 .\n",
        "\n"
      ],
      "metadata": {
        "id": "wevPiH8iZbGC"
      }
    },
    {
      "cell_type": "code",
      "source": [
        "sum_of_evens = 0\n",
        "for i in range(2, 51, 2):\n",
        "  sum_of_evens += i\n",
        "\n",
        "print(\"The sum of all even numbers between 1 and 50 is:\", sum_of_evens)\n"
      ],
      "metadata": {
        "colab": {
          "base_uri": "https://localhost:8080/"
        },
        "id": "Fkqj6d28bL3z",
        "outputId": "a240a2c9-228a-476f-cd9c-f88dcc60dee2"
      },
      "execution_count": 32,
      "outputs": [
        {
          "output_type": "stream",
          "name": "stdout",
          "text": [
            "The sum of all even numbers between 1 and 50 is: 650\n"
          ]
        }
      ]
    },
    {
      "cell_type": "markdown",
      "source": [
        "**14**. Write a program to reverse a string using a while loop ."
      ],
      "metadata": {
        "id": "796W_1snbSQI"
      }
    },
    {
      "cell_type": "code",
      "source": [
        "def reverse_string(string):\n",
        "  reversed_string = \"\"\n",
        "  index = len(string) - 1\n",
        "\n",
        "  while index >= 0:\n",
        "    reversed_string += string[index]\n",
        "    index -= 1\n",
        "\n",
        "  return reversed_string\n",
        "\n",
        "input_string = \"Barsa Rout\"\n",
        "print(reverse_string(input_string))"
      ],
      "metadata": {
        "colab": {
          "base_uri": "https://localhost:8080/"
        },
        "id": "Udyo4q7Ob5r_",
        "outputId": "b8ce266e-8e3f-4af8-eb7f-d6ec717aae4f"
      },
      "execution_count": 33,
      "outputs": [
        {
          "output_type": "stream",
          "name": "stdout",
          "text": [
            "tuoR asraB\n"
          ]
        }
      ]
    },
    {
      "cell_type": "markdown",
      "source": [
        "**15**. Write a Python program to calculate the factorial of a number provided by the user using a while loop ."
      ],
      "metadata": {
        "id": "mE2NXy2icFyB"
      }
    },
    {
      "cell_type": "code",
      "source": [
        "num = int(input(\"Enter a number: \"))\n",
        "\n",
        "factorial = 1\n",
        "i = 1\n",
        "\n",
        "if num < 0:\n",
        "    print(\"Factorial is not defined for negative numbers.\")\n",
        "elif num == 0:\n",
        "    print(\"The factorial of 0 is 1.\")\n",
        "else:\n",
        "    while i <= num:\n",
        "        factorial *= i\n",
        "        i += 1\n",
        "    print(\"The factorial of\", num, \"is\", factorial)"
      ],
      "metadata": {
        "colab": {
          "base_uri": "https://localhost:8080/"
        },
        "id": "FUga5S4ycSRV",
        "outputId": "aec2fac6-6c10-4451-8ab5-8f9f208afb15"
      },
      "execution_count": 34,
      "outputs": [
        {
          "output_type": "stream",
          "name": "stdout",
          "text": [
            "Enter a number: 4\n",
            "The factorial of 4 is 24\n"
          ]
        }
      ]
    }
  ]
}